{
 "cells": [
  {
   "cell_type": "code",
   "id": "initial_id",
   "metadata": {
    "collapsed": true,
    "ExecuteTime": {
     "end_time": "2024-06-04T16:51:03.745244Z",
     "start_time": "2024-06-04T16:51:03.740243Z"
    }
   },
   "source": [
    "from sklearn.datasets import make_blobs\n",
    "from keras.src.saving import load_model\n",
    "import pickle\n",
    "import numpy as np\n",
    "import pandas as pd\n",
    "import keras\n",
    "from sklearn.preprocessing import MinMaxScaler\n",
    "from templates.FunctionsBuild import create_sequential_model"
   ],
   "outputs": [],
   "execution_count": 75
  },
  {
   "metadata": {
    "ExecuteTime": {
     "end_time": "2024-05-22T23:33:40.500212Z",
     "start_time": "2024-05-22T23:33:40.350659Z"
    }
   },
   "cell_type": "code",
   "source": [
    "scalar_path = \"../models/scalar.pickle\"\n",
    "path_model = \"../models/model.keras\"\n",
    "# load model\n",
    "model = load_model(path_model)\n",
    "# open scalar\n",
    "with open(scalar_path, \"rb\") as f:\n",
    "    scalar = pickle.load(f)\n",
    "# new instances where we do not know the answer\n",
    "Xnew, _ = make_blobs(n_samples=3, centers=2, n_features=2, random_state=1)\n",
    "Xnew = scalar.transform(Xnew)\n",
    "# make a prediction\n",
    "# ynew = model.predict_step(Xnew)\n",
    "ynew = model.predict(Xnew)\n",
    "# show the inputs and predicted outputs\n",
    "for i in range(len(Xnew)):\n",
    "\tprint(\"X=%s, Predicted=%s\" % (Xnew[i], ynew[i]))"
   ],
   "id": "ade371ca0da59ddb",
   "outputs": [
    {
     "name": "stdout",
     "output_type": "stream",
     "text": [
      "\u001B[1m1/1\u001B[0m \u001B[32m━━━━━━━━━━━━━━━━━━━━\u001B[0m\u001B[37m\u001B[0m \u001B[1m0s\u001B[0m 60ms/step\n",
      "X=[0.89337759 0.65864154], Predicted=[0.17742321]\n",
      "X=[0.29097707 0.12978982], Predicted=[0.9963976]\n",
      "X=[0.78082614 0.75391697], Predicted=[0.17742321]\n"
     ]
    }
   ],
   "execution_count": 10
  },
  {
   "metadata": {
    "ExecuteTime": {
     "end_time": "2024-06-04T15:03:17.717756Z",
     "start_time": "2024-06-04T15:03:16.232846Z"
    }
   },
   "cell_type": "code",
   "source": [
    "with open(\"../data/data_train_2024-05-30.pkl\", \"rb\") as f:\n",
    "    data_train = pickle.load(f)\n"
   ],
   "id": "d8cbcc9544e81a3e",
   "outputs": [],
   "execution_count": 2
  },
  {
   "metadata": {
    "ExecuteTime": {
     "end_time": "2024-06-04T15:47:30.355368Z",
     "start_time": "2024-06-04T15:47:30.271631Z"
    }
   },
   "cell_type": "code",
   "source": [
    "data_x = data_train[\"absences\"][\"x\"]\n",
    "data_y = data_train[\"absences\"][\"y\"]\n",
    "print(\"columns: \", data_train[\"absences\"][\"columns\"])\n",
    "\n",
    "data_x = np.array(data_x)\n",
    "data_y = np.array(data_y)\n",
    "print(data_x.shape, data_y.shape)\n",
    "print(data_x[:, 0])\n",
    "non_zeros = np.count_nonzero(data_y)\n",
    "print(non_zeros)"
   ],
   "id": "83598c8721ad6dbe",
   "outputs": [
    {
     "name": "stdout",
     "output_type": "stream",
     "text": [
      "columns:  ('id_emp', 'day_of_week', 'month', 'total_value', 'mean', 'std', 'median', 'var')\n",
      "(107103, 9) (107103, 2)\n",
      "[12. 12. 12. ... 59. 59. 59.]\n",
      "158\n"
     ]
    }
   ],
   "execution_count": 36
  },
  {
   "metadata": {
    "ExecuteTime": {
     "end_time": "2024-06-04T23:48:41.466341Z",
     "start_time": "2024-06-04T23:48:41.461461Z"
    }
   },
   "cell_type": "code",
   "source": [
    "dict_data = {}\n",
    "for index, column in enumerate(data_train[\"absences\"][\"columns\"]):\n",
    "    dict_data[column] = data_x[:, index]\n",
    "dict_data[\"y\"] = data_y[:, 0]\n",
    "dict_data[\"y_val\"] = data_y[:, 1]\n"
   ],
   "id": "a8a1adab2dfe0e58",
   "outputs": [],
   "execution_count": 206
  },
  {
   "metadata": {
    "ExecuteTime": {
     "end_time": "2024-06-04T23:48:49.041697Z",
     "start_time": "2024-06-04T23:48:49.022213Z"
    }
   },
   "cell_type": "code",
   "source": [
    "df = pd.DataFrame(dict_data)\n",
    "df_lates = df[df[\"y\"] != 0]\n",
    "n_absences = len(df_lates)\n",
    "df_normal = df[df[\"y\"] == 0]\n",
    "n_normal = len(df_normal)\n",
    "n_sample_normal = n_absences * 5\n",
    "df_normal_sample = df_normal.sample(n_sample_normal)\n",
    "df_final = pd.concat([df_lates, df_normal_sample])\n",
    "# randomize data\n",
    "df_final = df_final.sample(frac=1).reset_index(drop=True)\n",
    "data_train_sample = df_final.values\n",
    "print(data_train_sample.shape)\n",
    "x = data_train_sample[:, 1:-2]\n",
    "y = data_train_sample[:, -2:-1]\n",
    "print(x.shape)\n"
   ],
   "id": "2fc69845af5a7ebb",
   "outputs": [
    {
     "name": "stdout",
     "output_type": "stream",
     "text": [
      "(474, 10)\n",
      "(474, 7)\n"
     ]
    }
   ],
   "execution_count": 207
  },
  {
   "metadata": {
    "ExecuteTime": {
     "end_time": "2024-06-04T23:48:57.129710Z",
     "start_time": "2024-06-04T23:48:54.255059Z"
    }
   },
   "cell_type": "code",
   "source": [
    "scalar = MinMaxScaler()\n",
    "scalar.fit(x)\n",
    "X = scalar.transform(x)\n",
    "pathfile = \"../models/scalar_abseces.pkl\"\n",
    "with open(pathfile, \"wb\") as f:\n",
    "    pickle.dump(data_train, f)"
   ],
   "id": "f0bbf5a02d40ff6f",
   "outputs": [],
   "execution_count": 208
  },
  {
   "metadata": {
    "ExecuteTime": {
     "end_time": "2024-06-04T18:22:56.076613Z",
     "start_time": "2024-06-04T18:22:56.072245Z"
    }
   },
   "cell_type": "code",
   "source": [
    "scalar_path = \"../models/scalar.pkl\"\n",
    "path_model = \"../models/model.keras\"\n",
    "# load model\n",
    "model = load_model(path_model)\n",
    "# open scalar\n",
    "with open(scalar_path, \"rb\") as f:\n",
    "    scalar = pickle.load(f)"
   ],
   "id": "617954875f94fd96",
   "outputs": [
    {
     "name": "stdout",
     "output_type": "stream",
     "text": [
      "[[0.6        0.72727273 0.         ... 0.         0.         0.        ]\n",
      " [0.8        0.72727273 0.         ... 0.         0.         0.        ]\n",
      " [0.6        0.81818182 0.         ... 0.         0.         0.        ]\n",
      " ...\n",
      " [0.2        0.90909091 0.         ... 0.         0.         0.        ]\n",
      " [0.4        0.45454545 0.         ... 0.         0.         0.        ]\n",
      " [0.2        0.63636364 0.         ... 0.         0.         0.        ]]\n"
     ]
    }
   ],
   "execution_count": 165
  },
  {
   "metadata": {
    "ExecuteTime": {
     "end_time": "2024-06-04T16:43:47.600540Z",
     "start_time": "2024-06-04T16:43:47.576170Z"
    }
   },
   "cell_type": "code",
   "source": [
    "# model.add(Dense(4, input_shape=(2,), activation='relu'))\n",
    "# model.add(Dense(4, activation='relu'))\n",
    "# model.add(Dense(1, activation='sigmoid'))\n",
    "dict_layers = [\n",
    "    {\"units\": 4, \"shape\": (len(X[0],)), \"activation\": \"relu\"},\n",
    "    {\"units\": 4, \"shape\": (len(X[0],)), \"activation\": \"relu\"},\n",
    "    {\"units\": 1, \"shape\": (len(X[0],)), \"activation\": \"sigmoid\"}\n",
    "]\n",
    "filepath = \"../models/model_test_absences.keras\"\n",
    "model = create_sequential_model(dict_layers, filepath=filepath)"
   ],
   "id": "62862b3026ac3cc4",
   "outputs": [
    {
     "ename": "TypeError",
     "evalue": "create_sequential_model() got an unexpected keyword argument 'filepath'",
     "output_type": "error",
     "traceback": [
      "\u001B[1;31m---------------------------------------------------------------------------\u001B[0m",
      "\u001B[1;31mTypeError\u001B[0m                                 Traceback (most recent call last)",
      "Cell \u001B[1;32mIn[70], line 10\u001B[0m\n\u001B[0;32m      4\u001B[0m dict_layers \u001B[38;5;241m=\u001B[39m [\n\u001B[0;32m      5\u001B[0m     {\u001B[38;5;124m\"\u001B[39m\u001B[38;5;124munits\u001B[39m\u001B[38;5;124m\"\u001B[39m: \u001B[38;5;241m8\u001B[39m, \u001B[38;5;124m\"\u001B[39m\u001B[38;5;124mshape\u001B[39m\u001B[38;5;124m\"\u001B[39m: (\u001B[38;5;28mlen\u001B[39m(X[\u001B[38;5;241m0\u001B[39m],)), \u001B[38;5;124m\"\u001B[39m\u001B[38;5;124mactivation\u001B[39m\u001B[38;5;124m\"\u001B[39m: \u001B[38;5;124m\"\u001B[39m\u001B[38;5;124mrelu\u001B[39m\u001B[38;5;124m\"\u001B[39m},\n\u001B[0;32m      6\u001B[0m     {\u001B[38;5;124m\"\u001B[39m\u001B[38;5;124munits\u001B[39m\u001B[38;5;124m\"\u001B[39m: \u001B[38;5;241m8\u001B[39m, \u001B[38;5;124m\"\u001B[39m\u001B[38;5;124mshape\u001B[39m\u001B[38;5;124m\"\u001B[39m: (\u001B[38;5;28mlen\u001B[39m(X[\u001B[38;5;241m0\u001B[39m],)), \u001B[38;5;124m\"\u001B[39m\u001B[38;5;124mactivation\u001B[39m\u001B[38;5;124m\"\u001B[39m: \u001B[38;5;124m\"\u001B[39m\u001B[38;5;124mrelu\u001B[39m\u001B[38;5;124m\"\u001B[39m},\n\u001B[0;32m      7\u001B[0m     {\u001B[38;5;124m\"\u001B[39m\u001B[38;5;124munits\u001B[39m\u001B[38;5;124m\"\u001B[39m: \u001B[38;5;241m1\u001B[39m, \u001B[38;5;124m\"\u001B[39m\u001B[38;5;124mshape\u001B[39m\u001B[38;5;124m\"\u001B[39m: (\u001B[38;5;28mlen\u001B[39m(X[\u001B[38;5;241m0\u001B[39m],)), \u001B[38;5;124m\"\u001B[39m\u001B[38;5;124mactivation\u001B[39m\u001B[38;5;124m\"\u001B[39m: \u001B[38;5;124m\"\u001B[39m\u001B[38;5;124msigmoid\u001B[39m\u001B[38;5;124m\"\u001B[39m}\n\u001B[0;32m      8\u001B[0m ]\n\u001B[0;32m      9\u001B[0m filepath \u001B[38;5;241m=\u001B[39m \u001B[38;5;124m\"\u001B[39m\u001B[38;5;124m../models/model_test_absences.keras\u001B[39m\u001B[38;5;124m\"\u001B[39m\n\u001B[1;32m---> 10\u001B[0m model \u001B[38;5;241m=\u001B[39m \u001B[43mcreate_sequential_model\u001B[49m\u001B[43m(\u001B[49m\u001B[43mdict_layers\u001B[49m\u001B[43m,\u001B[49m\u001B[43m \u001B[49m\u001B[43mfilepath\u001B[49m\u001B[38;5;241;43m=\u001B[39;49m\u001B[43mfilepath\u001B[49m\u001B[43m)\u001B[49m\n",
      "\u001B[1;31mTypeError\u001B[0m: create_sequential_model() got an unexpected keyword argument 'filepath'"
     ]
    }
   ],
   "execution_count": 70
  },
  {
   "metadata": {
    "ExecuteTime": {
     "end_time": "2024-06-04T18:28:01.986127Z",
     "start_time": "2024-06-04T18:28:01.951771Z"
    }
   },
   "cell_type": "code",
   "source": [
    "# load model\n",
    "filepath = \"../models/model_test_classes.keras\"\n",
    "new_model = keras.models.load_model(filepath)\n",
    "print(new_model)"
   ],
   "id": "daa65322bab05f9f",
   "outputs": [
    {
     "name": "stdout",
     "output_type": "stream",
     "text": [
      "<Sequential name=sequential, built=True>\n"
     ]
    }
   ],
   "execution_count": 181
  },
  {
   "metadata": {
    "ExecuteTime": {
     "end_time": "2024-06-04T18:28:02.859635Z",
     "start_time": "2024-06-04T18:28:02.852014Z"
    }
   },
   "cell_type": "code",
   "source": "new_model.compile(loss='binary_crossentropy', optimizer='adam')",
   "id": "670397b3e9662a87",
   "outputs": [],
   "execution_count": 182
  },
  {
   "metadata": {
    "ExecuteTime": {
     "end_time": "2024-06-04T18:28:22.452506Z",
     "start_time": "2024-06-04T18:28:03.694234Z"
    }
   },
   "cell_type": "code",
   "source": "new_model.fit(X, y, epochs=500, verbose=0)",
   "id": "eca0f564b20cbd23",
   "outputs": [
    {
     "data": {
      "text/plain": [
       "<keras.src.callbacks.history.History at 0x1fac1a96250>"
      ]
     },
     "execution_count": 183,
     "metadata": {},
     "output_type": "execute_result"
    }
   ],
   "execution_count": 183
  },
  {
   "metadata": {
    "ExecuteTime": {
     "end_time": "2024-06-04T18:28:34.114169Z",
     "start_time": "2024-06-04T18:28:34.093545Z"
    }
   },
   "cell_type": "code",
   "source": [
    "filepath = \"../models/model_test_absences_trained.keras\"\n",
    "new_model.save(filepath)"
   ],
   "id": "a258d9ee41926006",
   "outputs": [],
   "execution_count": 184
  },
  {
   "metadata": {
    "ExecuteTime": {
     "end_time": "2024-06-04T23:32:34.133570Z",
     "start_time": "2024-06-04T23:32:34.101209Z"
    }
   },
   "cell_type": "code",
   "source": [
    "# new instances where we do not know the answer\n",
    "users = df[\"id_emp\"].unique()\n",
    "print(users)\n",
    "data_out = []\n",
    "for emp in users:\n",
    "    df_emp = df[(df[\"id_emp\"] == emp) & (df[\"y\"] == 1)]\n",
    "    if len(df_emp)>0:\n",
    "        data_out.append(df_emp.iloc[-1].values)\n",
    "    else:\n",
    "        data_out.append([emp,  1,  1,  0, 0,  0,  0, 0,  0,  0])\n",
    "data_out = np.array(data_out)\n",
    "pathfile = \"../data/last_vals_absences.pkl\"\n",
    "with open(pathfile, \"wb\") as f:\n",
    "    pickle.dump(data_out, f)\n"
   ],
   "id": "c66893a532f9d5ea",
   "outputs": [
    {
     "name": "stdout",
     "output_type": "stream",
     "text": [
      "[12. 18. 13. 45. 57.  4. 58. 51. 24.  6. 37. 23. 14. 27.  8.  1. 15. 10.\n",
      " 36. 11. 49. 56. 46.  2.  9. 28. 52. 44. 55. 26. 35. 19. 33. 31.  3.  5.\n",
      " 17. 22. 25. 29. 30. 32. 34. 38. 41. 42. 47. 48. 50. 53. 59.]\n"
     ]
    }
   ],
   "execution_count": 196
  },
  {
   "metadata": {
    "ExecuteTime": {
     "end_time": "2024-06-04T23:18:35.179840Z",
     "start_time": "2024-06-04T23:18:35.111978Z"
    }
   },
   "cell_type": "code",
   "source": [
    "# new instances where we do not know the answer\n",
    "day_of_week = 6\n",
    "month = 6\n",
    "rows = data_out.shape[0]\n",
    "print(rows)\n",
    "for i in range(rows):\n",
    "    data_out[i, 1] = day_of_week\n",
    "    data_out[i, 2] = month\n",
    "Xnew = data_out[:, 1:-2]\n",
    "print(Xnew.shape)\n",
    "Xnew = scalar.transform(Xnew)\n",
    "ynew = new_model.predict(Xnew)\n",
    "threshold = 0.97\n",
    "counter=0\n",
    "for index, item in enumerate(ynew):\n",
    "    # print(\"value: \", item, \"data \", data_out[index, :])\n",
    "    if item>threshold:\n",
    "        counter +=1\n",
    "        print(f\"El empleado {data_out[index, 0]} es posible que falte el dia {day_of_week} en el mes {month}\")\n",
    "        # print(data_out[index, :])\n",
    "        \n",
    "print(f\"posibles faltas: {counter}\")\n",
    "# print(data_out[0,:])"
   ],
   "id": "1756370cc8599303",
   "outputs": [
    {
     "name": "stdout",
     "output_type": "stream",
     "text": [
      "51\n",
      "(51, 7)\n",
      "\u001B[1m2/2\u001B[0m \u001B[32m━━━━━━━━━━━━━━━━━━━━\u001B[0m\u001B[37m\u001B[0m \u001B[1m0s\u001B[0m 2ms/step \n",
      "El empleado 13.0 es posible que falte el dia 6 en el mes 6\n",
      "El empleado 45.0 es posible que falte el dia 6 en el mes 6\n",
      "El empleado 24.0 es posible que falte el dia 6 en el mes 6\n",
      "El empleado 36.0 es posible que falte el dia 6 en el mes 6\n",
      "El empleado 56.0 es posible que falte el dia 6 en el mes 6\n",
      "El empleado 46.0 es posible que falte el dia 6 en el mes 6\n",
      "El empleado 9.0 es posible que falte el dia 6 en el mes 6\n",
      "El empleado 52.0 es posible que falte el dia 6 en el mes 6\n",
      "posibles faltas: 8\n"
     ]
    }
   ],
   "execution_count": 195
  },
  {
   "metadata": {},
   "cell_type": "code",
   "outputs": [],
   "execution_count": null,
   "source": "###################------------------------lates models--------------------------------------######################",
   "id": "2fa53dd117559049"
  },
  {
   "metadata": {
    "ExecuteTime": {
     "end_time": "2024-06-05T00:15:05.864790Z",
     "start_time": "2024-06-05T00:15:05.782227Z"
    }
   },
   "cell_type": "code",
   "source": [
    "type_class = \"lates\"\n",
    "data_x = data_train[type_class][\"x\"]\n",
    "data_y = data_train[type_class][\"y\"]\n",
    "print(\"columns: \", data_train[type_class][\"columns\"])\n",
    "data_x = np.array(data_x)\n",
    "data_y = np.array(data_y)\n",
    "print(data_x.shape, data_y.shape)\n",
    "print(data_x[:, 0])\n",
    "non_zeros = np.count_nonzero(data_y)\n",
    "dict_data = {}\n",
    "for index, column in enumerate(data_train[type_class][\"columns\"]):\n",
    "    dict_data[column] = data_x[:, index]\n",
    "dict_data[\"y\"] = data_y[:, 0]\n",
    "dict_data[\"y_val\"] = data_y[:, 1]\n",
    "print(dict_data[\"y_val\"])"
   ],
   "id": "6c145ff9c2263980",
   "outputs": [
    {
     "name": "stdout",
     "output_type": "stream",
     "text": [
      "columns:  ('id_emp', 'day_of_week', 'month', 'total_value', 'mean', 'std', 'median', 'var')\n",
      "(107103, 9) (107103, 2)\n",
      "[12. 12. 12. ... 59. 59. 59.]\n",
      "[0. 0. 0. ... 0. 0. 0.]\n"
     ]
    }
   ],
   "execution_count": 238
  },
  {
   "metadata": {
    "ExecuteTime": {
     "end_time": "2024-06-05T00:18:20.572373Z",
     "start_time": "2024-06-05T00:18:20.551612Z"
    }
   },
   "cell_type": "code",
   "source": [
    "df = pd.DataFrame(dict_data)\n",
    "df_lates = df[df[\"y\"] != 0]\n",
    "# print(df_lates.head())\n",
    "n_lates = len(df_lates)\n",
    "print(f\"n lates: {n_lates}\")\n",
    "df_normal = df[df[\"y\"] == 0]\n",
    "n_normal = len(df_normal)\n",
    "n_sample_normal = n_lates * 3\n",
    "df_normal_sample = df_normal.sample(n_sample_normal)\n",
    "df_final = pd.concat([df_lates, df_normal_sample])\n",
    "# randomize data\n",
    "df_final = df_final.sample(frac=1).reset_index(drop=True)\n",
    "data_train_sample = df_final.values\n",
    "print(data_train_sample.shape)\n",
    "x = data_train_sample[:, 1:-2]\n",
    "y1 = data_train_sample[:, -2:-1]\n",
    "y2 = data_train_sample[:, -1] \n",
    "print(x.shape)\n"
   ],
   "id": "858ee5eb60caf48a",
   "outputs": [
    {
     "name": "stdout",
     "output_type": "stream",
     "text": [
      "n lates: 287\n",
      "(1148, 10)\n",
      "(1148, 7)\n"
     ]
    }
   ],
   "execution_count": 251
  },
  {
   "metadata": {
    "ExecuteTime": {
     "end_time": "2024-06-05T00:07:11.442965Z",
     "start_time": "2024-06-05T00:07:11.438662Z"
    }
   },
   "cell_type": "code",
   "source": [
    "a = np.array([[1, 2, 3],[1, 2, 3], [4,4,4]])\n",
    "print(a)\n",
    "new_column = a[:,-1]\n",
    "print(new_column)\n",
    "b = np.c_[a, new_column]\n",
    "print(b)"
   ],
   "id": "15512611d01b66b7",
   "outputs": [
    {
     "name": "stdout",
     "output_type": "stream",
     "text": [
      "[[1 2 3]\n",
      " [1 2 3]\n",
      " [4 4 4]]\n",
      "[3 3 4]\n",
      "[[1 2 3 3]\n",
      " [1 2 3 3]\n",
      " [4 4 4 4]]\n"
     ]
    }
   ],
   "execution_count": 222
  },
  {
   "metadata": {
    "ExecuteTime": {
     "end_time": "2024-06-05T00:18:27.505436Z",
     "start_time": "2024-06-05T00:18:24.774746Z"
    }
   },
   "cell_type": "code",
   "source": [
    "scalar_lates = MinMaxScaler()\n",
    "scalar_lates.fit(x)\n",
    "X = scalar_lates.transform(x)\n",
    "pathfile = \"../models/scalar_lates.pkl\"\n",
    "with open(pathfile, \"wb\") as f:\n",
    "    pickle.dump(data_train, f)"
   ],
   "id": "49acba47665f61de",
   "outputs": [],
   "execution_count": 252
  },
  {
   "metadata": {},
   "cell_type": "code",
   "outputs": [],
   "execution_count": null,
   "source": [
    "scalar_path = \"../models/scalar_lates.pkl\"\n",
    "path_model = \"../models/model.keras\"\n",
    "# load model\n",
    "model = load_model(path_model)\n",
    "# open scalar\n",
    "with open(scalar_path, \"rb\") as f:\n",
    "    scalar_lates = pickle.load(f)"
   ],
   "id": "288894f765ec73f7"
  },
  {
   "metadata": {
    "ExecuteTime": {
     "end_time": "2024-06-05T00:18:58.925777Z",
     "start_time": "2024-06-05T00:18:32.080343Z"
    }
   },
   "cell_type": "code",
   "source": [
    "# load model classes\n",
    "filepath = \"../models/model_test_classes.keras\"\n",
    "new_model_lates_class = keras.models.load_model(filepath)\n",
    "new_model_lates_class.compile(loss='binary_crossentropy', optimizer='adam')\n",
    "new_model_lates_class.fit(X, y1, epochs=500, verbose=0)\n",
    "filepath = \"../models/model_test_lates_trained_class.keras\"\n",
    "new_model_lates_class.save(filepath)\n",
    "print(\"output: \", filepath)"
   ],
   "id": "99c7669982c8a0b8",
   "outputs": [
    {
     "name": "stdout",
     "output_type": "stream",
     "text": [
      "output:  ../models/model_test_lates_trained_class.keras\n"
     ]
    }
   ],
   "execution_count": 253
  },
  {
   "metadata": {
    "ExecuteTime": {
     "end_time": "2024-06-05T00:16:53.353573Z",
     "start_time": "2024-06-05T00:16:21.190818Z"
    }
   },
   "cell_type": "code",
   "source": [
    "# load model linear\n",
    "filepath = \"../models/model_test_base_linear.keras\"\n",
    "new_model_lates_linear = keras.models.load_model(filepath)\n",
    "new_model_lates_linear.compile(loss='mse', optimizer='adam')\n",
    "new_model_lates_linear.fit(X, y2, epochs=500, verbose=0)\n",
    "filepath = \"../models/model_test_lates_trained_linear.keras\"\n",
    "new_model_lates_linear.save(filepath)\n",
    "print(\"output: \", filepath)"
   ],
   "id": "d60c48070ce564f0",
   "outputs": [
    {
     "name": "stdout",
     "output_type": "stream",
     "text": [
      "output:  ../models/model_test_lates_trained_linear.keras\n"
     ]
    }
   ],
   "execution_count": 243
  },
  {
   "metadata": {
    "ExecuteTime": {
     "end_time": "2024-06-05T00:19:03.524899Z",
     "start_time": "2024-06-05T00:19:03.497789Z"
    }
   },
   "cell_type": "code",
   "source": [
    "users = df[\"id_emp\"].unique()\n",
    "print(users)\n",
    "data_out = []\n",
    "for emp in users:\n",
    "    df_emp = df[(df[\"id_emp\"] == emp) & (df[\"y\"] == 1)]\n",
    "    if len(df_emp) > 0:\n",
    "        data_out.append(df_emp.iloc[-1].values)\n",
    "    else:\n",
    "        data_out.append([emp, 1, 1, 0, 0, 0, 0, 0, 0, 0])\n",
    "data_out = np.array(data_out)\n",
    "pathfile = \"../data/last_vals_lates.pkl\"\n",
    "with open(pathfile, \"wb\") as f:\n",
    "    pickle.dump(data_out, f)\n"
   ],
   "id": "ba186aef08d69519",
   "outputs": [
    {
     "name": "stdout",
     "output_type": "stream",
     "text": [
      "[12. 18. 13. 45. 57.  4. 58. 51. 24.  6. 37. 23. 14. 27.  8.  1. 15. 10.\n",
      " 36. 11. 49. 56. 46.  2.  9. 28. 52. 44. 55. 26. 35. 19. 33. 31.  3.  5.\n",
      " 17. 22. 25. 29. 30. 32. 34. 38. 41. 42. 47. 48. 50. 53. 59.]\n"
     ]
    }
   ],
   "execution_count": 254
  },
  {
   "metadata": {
    "ExecuteTime": {
     "end_time": "2024-06-05T00:19:06.453045Z",
     "start_time": "2024-06-05T00:19:06.264706Z"
    }
   },
   "cell_type": "code",
   "source": [
    "# new instances where we do not know the answer\n",
    "day_of_week = 2\n",
    "month = 6\n",
    "rows = data_out.shape[0]\n",
    "print(rows)\n",
    "for i in range(rows):\n",
    "    data_out[i, 1] = day_of_week\n",
    "    data_out[i, 2] = month\n",
    "Xnew = data_out[:, 1:-2]\n",
    "print(Xnew.shape)\n",
    "Xnew = scalar_lates.transform(Xnew)\n",
    "ynew1 = new_model_lates_class.predict(Xnew)\n",
    "ynew2 = new_model_lates_linear.predict(Xnew)\n",
    "print(ynew1)\n",
    "print(ynew2)\n",
    "# late days\n",
    "threshold = 0.5\n",
    "counter = 0\n",
    "for index, item in enumerate(ynew1):\n",
    "    # print(\"value: \", item, \"data \", data_out[index, :])\n",
    "    if item > threshold:\n",
    "        counter += 1\n",
    "        print(f\"El empleado {data_out[index, 0]} es posible que se atrase el dia {day_of_week} en el mes {month} una cantidad {ynew2[index]}\")\n",
    "print(f\"posibles dias tarde: {counter}\")\n",
    "# print(data_out[0,:])\n"
   ],
   "id": "a1aa9099174baab3",
   "outputs": [
    {
     "name": "stdout",
     "output_type": "stream",
     "text": [
      "51\n",
      "(51, 7)\n",
      "\u001B[1m2/2\u001B[0m \u001B[32m━━━━━━━━━━━━━━━━━━━━\u001B[0m\u001B[37m\u001B[0m \u001B[1m0s\u001B[0m 35ms/step\n",
      "\u001B[1m2/2\u001B[0m \u001B[32m━━━━━━━━━━━━━━━━━━━━\u001B[0m\u001B[37m\u001B[0m \u001B[1m0s\u001B[0m 2ms/step \n",
      "[[0.0750278 ]\n",
      " [0.04069853]\n",
      " [0.03164852]\n",
      " [0.0825123 ]\n",
      " [0.0381073 ]\n",
      " [0.01278051]\n",
      " [0.01492105]\n",
      " [0.01586521]\n",
      " [0.03611137]\n",
      " [0.01278051]\n",
      " [0.01278051]\n",
      " [0.01278051]\n",
      " [0.01278051]\n",
      " [0.01278051]\n",
      " [0.01278051]\n",
      " [0.01278051]\n",
      " [0.01278051]\n",
      " [0.01278051]\n",
      " [0.01278051]\n",
      " [0.01278051]\n",
      " [0.01278051]\n",
      " [0.01278051]\n",
      " [0.01278051]\n",
      " [0.01278051]\n",
      " [0.01278051]\n",
      " [0.01278051]\n",
      " [0.01877124]\n",
      " [0.01278051]\n",
      " [0.01278051]\n",
      " [0.01278051]\n",
      " [0.01278051]\n",
      " [0.01278051]\n",
      " [0.01278051]\n",
      " [0.01278051]\n",
      " [0.01278051]\n",
      " [0.01278051]\n",
      " [0.0214959 ]\n",
      " [0.01278051]\n",
      " [0.01278051]\n",
      " [0.01278051]\n",
      " [0.01278051]\n",
      " [0.01278051]\n",
      " [0.01278051]\n",
      " [0.06076619]\n",
      " [0.01278051]\n",
      " [0.01278051]\n",
      " [0.01278051]\n",
      " [0.01278051]\n",
      " [0.01278051]\n",
      " [0.0261017 ]\n",
      " [0.01278051]]\n",
      "[[ 0.43143988]\n",
      " [ 0.46435928]\n",
      " [ 0.5597615 ]\n",
      " [ 0.6039946 ]\n",
      " [ 0.28502512]\n",
      " [ 0.00287199]\n",
      " [ 0.262089  ]\n",
      " [ 0.237468  ]\n",
      " [ 0.44613576]\n",
      " [-0.0245285 ]\n",
      " [ 0.03518534]\n",
      " [ 0.03518534]\n",
      " [ 0.00287199]\n",
      " [ 0.00287199]\n",
      " [ 0.00287199]\n",
      " [ 0.02855062]\n",
      " [ 0.03518534]\n",
      " [ 0.00287199]\n",
      " [ 0.00287199]\n",
      " [ 0.00287199]\n",
      " [ 0.00287199]\n",
      " [ 0.00287199]\n",
      " [ 0.5170367 ]\n",
      " [ 0.23094773]\n",
      " [ 0.05149388]\n",
      " [ 0.00287199]\n",
      " [ 0.24062872]\n",
      " [ 0.00287199]\n",
      " [ 0.00287199]\n",
      " [ 0.00287199]\n",
      " [ 0.00287199]\n",
      " [ 0.00287199]\n",
      " [ 0.00287199]\n",
      " [ 0.02855062]\n",
      " [ 0.00287199]\n",
      " [ 0.00287199]\n",
      " [ 0.24409723]\n",
      " [ 0.03973103]\n",
      " [ 0.00287199]\n",
      " [ 0.00287199]\n",
      " [ 0.03518534]\n",
      " [-0.0245285 ]\n",
      " [ 0.0397315 ]\n",
      " [ 0.3766489 ]\n",
      " [ 0.09739017]\n",
      " [ 0.06903267]\n",
      " [ 0.12804317]\n",
      " [-0.0245285 ]\n",
      " [ 0.00201082]\n",
      " [ 0.4393773 ]\n",
      " [ 0.00287199]]\n",
      "posibles dias tarde: 0\n"
     ]
    }
   ],
   "execution_count": 255
  },
  {
   "metadata": {},
   "cell_type": "code",
   "outputs": [],
   "execution_count": null,
   "source": "",
   "id": "f77cf19433bdd4cf"
  }
 ],
 "metadata": {
  "kernelspec": {
   "display_name": "Python 3",
   "language": "python",
   "name": "python3"
  },
  "language_info": {
   "codemirror_mode": {
    "name": "ipython",
    "version": 2
   },
   "file_extension": ".py",
   "mimetype": "text/x-python",
   "name": "python",
   "nbconvert_exporter": "python",
   "pygments_lexer": "ipython2",
   "version": "2.7.6"
  }
 },
 "nbformat": 4,
 "nbformat_minor": 5
}
