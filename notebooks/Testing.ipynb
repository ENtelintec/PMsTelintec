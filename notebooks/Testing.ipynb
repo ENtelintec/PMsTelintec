{
 "cells": [
  {
   "cell_type": "code",
   "id": "initial_id",
   "metadata": {
    "collapsed": true,
    "ExecuteTime": {
     "end_time": "2024-05-22T23:22:16.976756Z",
     "start_time": "2024-05-22T23:22:14.915219Z"
    }
   },
   "source": [
    "from sklearn.datasets import make_blobs\n",
    "from keras.src.saving import load_model\n",
    "import pickle"
   ],
   "outputs": [],
   "execution_count": 3
  },
  {
   "metadata": {
    "ExecuteTime": {
     "end_time": "2024-05-22T23:33:40.500212Z",
     "start_time": "2024-05-22T23:33:40.350659Z"
    }
   },
   "cell_type": "code",
   "source": [
    "scalar_path = \"../models/scalar.pickle\"\n",
    "path_model = \"../models/model.keras\"\n",
    "# load model\n",
    "model = load_model(path_model)\n",
    "# open scalar\n",
    "with open(scalar_path, \"rb\") as f:\n",
    "    scalar = pickle.load(f)\n",
    "# new instances where we do not know the answer\n",
    "Xnew, _ = make_blobs(n_samples=3, centers=2, n_features=2, random_state=1)\n",
    "Xnew = scalar.transform(Xnew)\n",
    "# make a prediction\n",
    "# ynew = model.predict_step(Xnew)\n",
    "ynew = model.predict(Xnew)\n",
    "# show the inputs and predicted outputs\n",
    "for i in range(len(Xnew)):\n",
    "\tprint(\"X=%s, Predicted=%s\" % (Xnew[i], ynew[i]))"
   ],
   "id": "ade371ca0da59ddb",
   "outputs": [
    {
     "name": "stdout",
     "output_type": "stream",
     "text": [
      "\u001B[1m1/1\u001B[0m \u001B[32m━━━━━━━━━━━━━━━━━━━━\u001B[0m\u001B[37m\u001B[0m \u001B[1m0s\u001B[0m 60ms/step\n",
      "X=[0.89337759 0.65864154], Predicted=[0.17742321]\n",
      "X=[0.29097707 0.12978982], Predicted=[0.9963976]\n",
      "X=[0.78082614 0.75391697], Predicted=[0.17742321]\n"
     ]
    }
   ],
   "execution_count": 10
  },
  {
   "metadata": {},
   "cell_type": "code",
   "outputs": [],
   "execution_count": null,
   "source": "",
   "id": "d8cbcc9544e81a3e"
  }
 ],
 "metadata": {
  "kernelspec": {
   "display_name": "Python 3",
   "language": "python",
   "name": "python3"
  },
  "language_info": {
   "codemirror_mode": {
    "name": "ipython",
    "version": 2
   },
   "file_extension": ".py",
   "mimetype": "text/x-python",
   "name": "python",
   "nbconvert_exporter": "python",
   "pygments_lexer": "ipython2",
   "version": "2.7.6"
  }
 },
 "nbformat": 4,
 "nbformat_minor": 5
}
